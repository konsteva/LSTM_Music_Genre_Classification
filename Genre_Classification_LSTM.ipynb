{
  "nbformat": 4,
  "nbformat_minor": 0,
  "metadata": {
    "colab": {
      "name": "Genre Classification LSTM.ipynb",
      "provenance": [],
      "collapsed_sections": [],
      "mount_file_id": "11VI_GEIIs2ScDfJcvj5xh2yjAbm92N2P",
      "authorship_tag": "ABX9TyMo+domtZW/lQOvTkHlhi+g",
      "include_colab_link": true
    },
    "kernelspec": {
      "name": "python3",
      "display_name": "Python 3"
    },
    "language_info": {
      "name": "python"
    },
    "accelerator": "GPU"
  },
  "cells": [
    {
      "cell_type": "markdown",
      "metadata": {
        "id": "view-in-github",
        "colab_type": "text"
      },
      "source": [
        "<a href=\"https://colab.research.google.com/github/konsteva/LSTM_Music_Genre_Classification/blob/main/Genre_Classification_LSTM.ipynb\" target=\"_parent\"><img src=\"https://colab.research.google.com/assets/colab-badge.svg\" alt=\"Open In Colab\"/></a>"
      ]
    },
    {
      "cell_type": "markdown",
      "metadata": {
        "id": "fgf8y2fXdjCK"
      },
      "source": [
        "# Check devices type"
      ]
    },
    {
      "cell_type": "code",
      "metadata": {
        "colab": {
          "base_uri": "https://localhost:8080/"
        },
        "id": "btFVzDTAJXuy",
        "outputId": "eaba2b84-ee2a-480d-821e-85bf03ae622f"
      },
      "source": [
        "import tensorflow as tf\n",
        "from tensorflow.python.client import device_lib\n",
        "\n",
        "tf.test.gpu_device_name()\n",
        "device_lib.list_local_devices()"
      ],
      "execution_count": 1,
      "outputs": [
        {
          "output_type": "execute_result",
          "data": {
            "text/plain": [
              "[name: \"/device:CPU:0\"\n",
              " device_type: \"CPU\"\n",
              " memory_limit: 268435456\n",
              " locality {\n",
              " }\n",
              " incarnation: 7559358801719209343, name: \"/device:GPU:0\"\n",
              " device_type: \"GPU\"\n",
              " memory_limit: 11345264640\n",
              " locality {\n",
              "   bus_id: 1\n",
              "   links {\n",
              "   }\n",
              " }\n",
              " incarnation: 202302466803296597\n",
              " physical_device_desc: \"device: 0, name: Tesla K80, pci bus id: 0000:00:04.0, compute capability: 3.7\"]"
            ]
          },
          "metadata": {},
          "execution_count": 1
        }
      ]
    },
    {
      "cell_type": "markdown",
      "metadata": {
        "id": "MrViFGA9d5RD"
      },
      "source": [
        "# Load and reform the data"
      ]
    },
    {
      "cell_type": "code",
      "metadata": {
        "id": "UmzgF881c7WQ"
      },
      "source": [
        "import json\n",
        "import numpy as np\n",
        "from sklearn.model_selection import train_test_split\n",
        "\n",
        "json_path = \"/content/drive/MyDrive/extracted_data.json\"\n",
        "\n",
        "with open(json_path, \"r\") as f:\n",
        "    data = json.load(f)\n",
        "\n",
        "# Make numpy arrays from dictionary\n",
        "# 3D arrays (song, sample ,MFCC)\n",
        "X = np.array(data[\"mfcc\"])\n",
        "y = np.array(data[\"labels\"])\n",
        "\n",
        "# Split data (train=80%, test=20%)\n",
        "X_train, X_test, y_train, y_test = train_test_split(X, y, test_size=0.20, random_state=0, stratify=y)\n",
        "# Split data (train=60%, validation=20%)\n",
        "X_train, X_val, y_train, y_val = train_test_split(X_train, y_train, test_size=0.25, random_state=0)\n",
        "\n",
        "\n",
        "input_shape = X_train[0].shape"
      ],
      "execution_count": 2,
      "outputs": []
    },
    {
      "cell_type": "markdown",
      "metadata": {
        "id": "P4Qw8F6veNLm"
      },
      "source": [
        "# Build and save model"
      ]
    },
    {
      "cell_type": "code",
      "metadata": {
        "colab": {
          "base_uri": "https://localhost:8080/"
        },
        "id": "0vBl9dcWc97E",
        "outputId": "be9c6f3c-4613-473e-a225-0573ffecf37d"
      },
      "source": [
        "import keras\n",
        "from keras import regularizers\n",
        "from tensorflow.keras.layers import LSTM, Dense, Dropout\n",
        "from keras.models import load_model\n",
        "\n",
        "model = keras.Sequential()\n",
        "\n",
        "# Input Layer\n",
        "model.add(LSTM(128,input_shape=input_shape))\n",
        "model.add(Dropout(0.2))\n",
        "\n",
        "# 1st Hidden Layer\n",
        "model.add(Dense(128, activation='relu'))\n",
        "\n",
        "# 2nd Hidden Layer\n",
        "model.add(Dense(64, activation='relu'))\n",
        "model.add(Dropout(0.4))\n",
        "\n",
        "# 3rd Hidden Layer\n",
        "model.add(Dense(48, activation='relu'))\n",
        "model.add(Dropout(0.4))\n",
        "\n",
        "# Output Layer\n",
        "model.add(Dense(24, activation='softmax'))\n",
        "\n",
        "model.summary()\n",
        "\n",
        "model.compile(optimizer='adam', loss='SparseCategoricalCrossentropy', metrics=['accuracy'])\n",
        "\n",
        "history = model.fit(X_train, y_train, epochs=150, batch_size=20, validation_data=(X_val, y_val), shuffle=False)\n",
        "test_loss, test_acc = model.evaluate(X_test, y_test, verbose=2)\n",
        "print('\\nTest accuracy:', test_acc)\n",
        "\n",
        "model_name = 'Genre_model.h5'\n",
        "model.save(model_name)"
      ],
      "execution_count": null,
      "outputs": [
        {
          "output_type": "stream",
          "name": "stdout",
          "text": [
            "Model: \"sequential\"\n",
            "_________________________________________________________________\n",
            "Layer (type)                 Output Shape              Param #   \n",
            "=================================================================\n",
            "lstm (LSTM)                  (None, 128)               72704     \n",
            "_________________________________________________________________\n",
            "dropout (Dropout)            (None, 128)               0         \n",
            "_________________________________________________________________\n",
            "dense (Dense)                (None, 128)               16512     \n",
            "_________________________________________________________________\n",
            "dense_1 (Dense)              (None, 64)                8256      \n",
            "_________________________________________________________________\n",
            "dropout_1 (Dropout)          (None, 64)                0         \n",
            "_________________________________________________________________\n",
            "dense_2 (Dense)              (None, 48)                3120      \n",
            "_________________________________________________________________\n",
            "dropout_2 (Dropout)          (None, 48)                0         \n",
            "_________________________________________________________________\n",
            "dense_3 (Dense)              (None, 24)                1176      \n",
            "=================================================================\n",
            "Total params: 101,768\n",
            "Trainable params: 101,768\n",
            "Non-trainable params: 0\n",
            "_________________________________________________________________\n",
            "Epoch 1/150\n",
            "300/300 [==============================] - 17s 36ms/step - loss: 2.2875 - accuracy: 0.2238 - val_loss: 1.7030 - val_accuracy: 0.3972\n",
            "Epoch 2/150\n",
            "300/300 [==============================] - 10s 33ms/step - loss: 1.8107 - accuracy: 0.3427 - val_loss: 1.4949 - val_accuracy: 0.4442\n",
            "Epoch 3/150\n",
            "300/300 [==============================] - 10s 32ms/step - loss: 1.6597 - accuracy: 0.3957 - val_loss: 1.4144 - val_accuracy: 0.4727\n",
            "Epoch 4/150\n",
            "300/300 [==============================] - 10s 32ms/step - loss: 1.5683 - accuracy: 0.4215 - val_loss: 1.3828 - val_accuracy: 0.5018\n",
            "Epoch 5/150\n",
            "300/300 [==============================] - 10s 32ms/step - loss: 1.4880 - accuracy: 0.4476 - val_loss: 1.3193 - val_accuracy: 0.5123\n",
            "Epoch 6/150\n",
            "300/300 [==============================] - 10s 33ms/step - loss: 1.4359 - accuracy: 0.4792 - val_loss: 1.2842 - val_accuracy: 0.5268\n",
            "Epoch 7/150\n",
            "300/300 [==============================] - 10s 33ms/step - loss: 1.3766 - accuracy: 0.5024 - val_loss: 1.2498 - val_accuracy: 0.5553\n",
            "Epoch 8/150\n",
            "300/300 [==============================] - 10s 32ms/step - loss: 1.3405 - accuracy: 0.5256 - val_loss: 1.2167 - val_accuracy: 0.5528\n",
            "Epoch 9/150\n",
            "300/300 [==============================] - 10s 32ms/step - loss: 1.3066 - accuracy: 0.5294 - val_loss: 1.2149 - val_accuracy: 0.5553\n",
            "Epoch 10/150\n",
            "300/300 [==============================] - 10s 32ms/step - loss: 1.2681 - accuracy: 0.5431 - val_loss: 1.1766 - val_accuracy: 0.5748\n",
            "Epoch 11/150\n",
            "300/300 [==============================] - 9s 31ms/step - loss: 1.2339 - accuracy: 0.5571 - val_loss: 1.1320 - val_accuracy: 0.5878\n",
            "Epoch 12/150\n",
            "300/300 [==============================] - 10s 32ms/step - loss: 1.2100 - accuracy: 0.5693 - val_loss: 1.1318 - val_accuracy: 0.5993\n",
            "Epoch 13/150\n",
            "300/300 [==============================] - 10s 32ms/step - loss: 1.1671 - accuracy: 0.5906 - val_loss: 1.1204 - val_accuracy: 0.5908\n",
            "Epoch 14/150\n",
            "300/300 [==============================] - 10s 32ms/step - loss: 1.1507 - accuracy: 0.5971 - val_loss: 1.0776 - val_accuracy: 0.6203\n",
            "Epoch 15/150\n",
            "300/300 [==============================] - 9s 32ms/step - loss: 1.1467 - accuracy: 0.6050 - val_loss: 1.0672 - val_accuracy: 0.6298\n",
            "Epoch 16/150\n",
            "300/300 [==============================] - 10s 32ms/step - loss: 1.1005 - accuracy: 0.6146 - val_loss: 1.0709 - val_accuracy: 0.6323\n",
            "Epoch 17/150\n",
            "300/300 [==============================] - 10s 32ms/step - loss: 1.0769 - accuracy: 0.6230 - val_loss: 1.0588 - val_accuracy: 0.6398\n",
            "Epoch 18/150\n",
            "300/300 [==============================] - 10s 32ms/step - loss: 1.0560 - accuracy: 0.6260 - val_loss: 1.0501 - val_accuracy: 0.6413\n",
            "Epoch 19/150\n",
            "300/300 [==============================] - 10s 32ms/step - loss: 1.0484 - accuracy: 0.6326 - val_loss: 1.0393 - val_accuracy: 0.6463\n",
            "Epoch 20/150\n",
            "300/300 [==============================] - 10s 32ms/step - loss: 0.9942 - accuracy: 0.6547 - val_loss: 1.0286 - val_accuracy: 0.6563\n",
            "Epoch 21/150\n",
            "300/300 [==============================] - 10s 32ms/step - loss: 0.9918 - accuracy: 0.6600 - val_loss: 1.0325 - val_accuracy: 0.6488\n",
            "Epoch 22/150\n",
            "300/300 [==============================] - 9s 31ms/step - loss: 0.9721 - accuracy: 0.6592 - val_loss: 1.0208 - val_accuracy: 0.6778\n",
            "Epoch 23/150\n",
            "300/300 [==============================] - 10s 32ms/step - loss: 0.9458 - accuracy: 0.6747 - val_loss: 0.9854 - val_accuracy: 0.6823\n",
            "Epoch 24/150\n",
            "300/300 [==============================] - 9s 32ms/step - loss: 0.9610 - accuracy: 0.6732 - val_loss: 1.0407 - val_accuracy: 0.6513\n",
            "Epoch 25/150\n",
            "300/300 [==============================] - 9s 32ms/step - loss: 0.9544 - accuracy: 0.6740 - val_loss: 0.9811 - val_accuracy: 0.6728\n",
            "Epoch 26/150\n",
            "300/300 [==============================] - 10s 32ms/step - loss: 0.9325 - accuracy: 0.6803 - val_loss: 1.0029 - val_accuracy: 0.6643\n",
            "Epoch 27/150\n",
            "300/300 [==============================] - 9s 32ms/step - loss: 0.8999 - accuracy: 0.6943 - val_loss: 0.9715 - val_accuracy: 0.6963\n",
            "Epoch 28/150\n",
            "300/300 [==============================] - 9s 32ms/step - loss: 0.8822 - accuracy: 0.6983 - val_loss: 1.0045 - val_accuracy: 0.6738\n",
            "Epoch 29/150\n",
            "300/300 [==============================] - 9s 32ms/step - loss: 0.9040 - accuracy: 0.6995 - val_loss: 0.9972 - val_accuracy: 0.6703\n",
            "Epoch 30/150\n",
            "300/300 [==============================] - 9s 32ms/step - loss: 0.8552 - accuracy: 0.7085 - val_loss: 0.9931 - val_accuracy: 0.6918\n",
            "Epoch 31/150\n",
            "300/300 [==============================] - 10s 32ms/step - loss: 0.8503 - accuracy: 0.7147 - val_loss: 1.0030 - val_accuracy: 0.6758\n",
            "Epoch 32/150\n",
            "300/300 [==============================] - 10s 32ms/step - loss: 0.8304 - accuracy: 0.7227 - val_loss: 0.9984 - val_accuracy: 0.6743\n",
            "Epoch 33/150\n",
            "300/300 [==============================] - 10s 32ms/step - loss: 0.8603 - accuracy: 0.7074 - val_loss: 0.9931 - val_accuracy: 0.6808\n",
            "Epoch 34/150\n",
            "300/300 [==============================] - 9s 32ms/step - loss: 0.8232 - accuracy: 0.7265 - val_loss: 0.9803 - val_accuracy: 0.7004\n",
            "Epoch 35/150\n",
            "300/300 [==============================] - 10s 32ms/step - loss: 0.8205 - accuracy: 0.7300 - val_loss: 0.9986 - val_accuracy: 0.6903\n",
            "Epoch 36/150\n",
            "300/300 [==============================] - 10s 32ms/step - loss: 0.8116 - accuracy: 0.7279 - val_loss: 0.9526 - val_accuracy: 0.7009\n",
            "Epoch 37/150\n",
            "300/300 [==============================] - 10s 32ms/step - loss: 0.8159 - accuracy: 0.7342 - val_loss: 0.9383 - val_accuracy: 0.7119\n",
            "Epoch 38/150\n",
            "300/300 [==============================] - 10s 32ms/step - loss: 0.7535 - accuracy: 0.7470 - val_loss: 0.9629 - val_accuracy: 0.7029\n",
            "Epoch 39/150\n",
            "300/300 [==============================] - 10s 32ms/step - loss: 0.7395 - accuracy: 0.7515 - val_loss: 0.9725 - val_accuracy: 0.6948\n",
            "Epoch 40/150\n",
            "300/300 [==============================] - 9s 32ms/step - loss: 0.7452 - accuracy: 0.7540 - val_loss: 1.0219 - val_accuracy: 0.6948\n",
            "Epoch 41/150\n",
            "300/300 [==============================] - 9s 32ms/step - loss: 0.7520 - accuracy: 0.7555 - val_loss: 0.9803 - val_accuracy: 0.7054\n",
            "Epoch 42/150\n",
            "300/300 [==============================] - 9s 31ms/step - loss: 0.7317 - accuracy: 0.7537 - val_loss: 1.0082 - val_accuracy: 0.7029\n",
            "Epoch 43/150\n",
            "300/300 [==============================] - 9s 32ms/step - loss: 0.7097 - accuracy: 0.7687 - val_loss: 0.9838 - val_accuracy: 0.7054\n",
            "Epoch 44/150\n",
            "300/300 [==============================] - 9s 32ms/step - loss: 0.7129 - accuracy: 0.7727 - val_loss: 1.0346 - val_accuracy: 0.7059\n",
            "Epoch 45/150\n",
            "201/300 [===================>..........] - ETA: 2s - loss: 0.7405 - accuracy: 0.7572"
          ]
        }
      ]
    },
    {
      "cell_type": "markdown",
      "metadata": {
        "id": "oG9_nD2XeSKB"
      },
      "source": [
        "# Visualizing the results"
      ]
    },
    {
      "cell_type": "code",
      "metadata": {
        "id": "YSnmpVMVc-Rg"
      },
      "source": [
        "from matplotlib import pyplot as plt\n",
        "\n",
        "# Plot train and validation set accuracy\n",
        "plt.figure(0)\n",
        "plt.plot(history.history['accuracy'], label='Train Accuracy')\n",
        "plt.plot(history.history['val_accuracy'], label='Validation Accuracy')\n",
        "plt.xlabel('Epoch')\n",
        "plt.ylabel('Accuracy')\n",
        "plt.title('Accuracy Plot')\n",
        "plt.legend()\n",
        "\n",
        "# Plot train and validation set error\n",
        "plt.figure(1)\n",
        "plt.plot(history.history['loss'], label='Train Loss')\n",
        "plt.plot(history.history['val_loss'], label='Validation Loss')\n",
        "plt.xlabel('Epoch')\n",
        "plt.ylabel('Error')\n",
        "plt.title('Error Plot')\n",
        "plt.legend()"
      ],
      "execution_count": null,
      "outputs": []
    },
    {
      "cell_type": "code",
      "metadata": {
        "id": "_HXUSgk4LN4i"
      },
      "source": [
        "from google.colab import drive\n",
        "drive.mount('/content/drive')"
      ],
      "execution_count": null,
      "outputs": []
    }
  ]
}