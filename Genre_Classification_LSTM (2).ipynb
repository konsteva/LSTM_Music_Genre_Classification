{
  "nbformat": 4,
  "nbformat_minor": 0,
  "metadata": {
    "colab": {
      "name": "Genre Classification LSTM.ipynb",
      "provenance": [],
      "collapsed_sections": []
    },
    "kernelspec": {
      "name": "python3",
      "display_name": "Python 3"
    },
    "language_info": {
      "name": "python"
    },
    "accelerator": "GPU"
  },
  "cells": [
    {
      "cell_type": "markdown",
      "metadata": {
        "id": "fgf8y2fXdjCK"
      },
      "source": [
        "# Check devices type"
      ]
    },
    {
      "cell_type": "code",
      "metadata": {
        "id": "btFVzDTAJXuy"
      },
      "source": [
        "import tensorflow as tf\n",
        "from tensorflow.python.client import device_lib\n",
        "\n",
        "tf.test.gpu_device_name()\n",
        "device_lib.list_local_devices()"
      ],
      "execution_count": null,
      "outputs": []
    },
    {
      "cell_type": "markdown",
      "metadata": {
        "id": "MrViFGA9d5RD"
      },
      "source": [
        "# Load and reform the data"
      ]
    },
    {
      "cell_type": "code",
      "metadata": {
        "id": "UmzgF881c7WQ"
      },
      "source": [
        "import json\n",
        "import numpy as np\n",
        "from sklearn.model_selection import train_test_split\n",
        "\n",
        "json_path = \"/content/drive/MyDrive/extracted_data.json\"\n",
        "\n",
        "with open(json_path, \"r\") as f:\n",
        "    data = json.load(f)\n",
        "\n",
        "# Make numpy arrays from dictionary\n",
        "# 3D arrays (song, sample ,MFCC)\n",
        "X = np.array(data[\"mfcc\"])\n",
        "y = np.array(data[\"labels\"])\n",
        "\n",
        "# Split data (train=80%, test=20%)\n",
        "X_train, X_test, y_train, y_test = train_test_split(X, y, test_size=0.20, random_state=0, stratify=y)\n",
        "# Split data (train=60%, validation=20%)\n",
        "X_train, X_val, y_train, y_val = train_test_split(X_train, y_train, test_size=0.25, random_state=0)\n",
        "\n",
        "\n",
        "input_shape = X_train[0].shape"
      ],
      "execution_count": null,
      "outputs": []
    },
    {
      "cell_type": "markdown",
      "metadata": {
        "id": "P4Qw8F6veNLm"
      },
      "source": [
        "# Build and save model"
      ]
    },
    {
      "cell_type": "code",
      "metadata": {
        "id": "0vBl9dcWc97E"
      },
      "source": [
        "import keras\n",
        "from keras import regularizers\n",
        "from tensorflow.keras.layers import LSTM, Dense, Dropout\n",
        "from keras.models import load_model\n",
        "\n",
        "model = keras.Sequential()\n",
        "\n",
        "# Input Layer\n",
        "model.add(LSTM(128,input_shape=input_shape))\n",
        "model.add(Dropout(0.2))\n",
        "\n",
        "# 1st Hidden Layer\n",
        "model.add(Dense(128, activation='relu'))\n",
        "\n",
        "# 2nd Hidden Layer\n",
        "model.add(Dense(64, activation='relu'))\n",
        "model.add(Dropout(0.4))\n",
        "\n",
        "# 3rd Hidden Layer\n",
        "model.add(Dense(48, activation='relu'))\n",
        "model.add(Dropout(0.4))\n",
        "\n",
        "# Output Layer\n",
        "model.add(Dense(24, activation='softmax'))\n",
        "\n",
        "model.summary()\n",
        "\n",
        "model.compile(optimizer='adam', loss='SparseCategoricalCrossentropy', metrics=['accuracy'])\n",
        "\n",
        "history = model.fit(X_train, y_train, epochs=150, batch_size=20, validation_data=(X_val, y_val), shuffle=False)\n",
        "test_loss, test_acc = model.evaluate(X_test, y_test, verbose=2)\n",
        "print('\\nTest accuracy:', test_acc)\n",
        "\n",
        "model_name = 'Genre_model.h5'\n",
        "model.save(model_name)"
      ],
      "execution_count": null,
      "outputs": []
    },
    {
      "cell_type": "markdown",
      "metadata": {
        "id": "oG9_nD2XeSKB"
      },
      "source": [
        "# Visualizing the results"
      ]
    },
    {
      "cell_type": "code",
      "metadata": {
        "id": "YSnmpVMVc-Rg"
      },
      "source": [
        "from matplotlib import pyplot as plt\n",
        "\n",
        "# Plot train and validation set accuracy\n",
        "plt.figure(0)\n",
        "plt.plot(history.history['accuracy'], label='Train Accuracy')\n",
        "plt.plot(history.history['val_accuracy'], label='Validation Accuracy')\n",
        "plt.xlabel('Epoch')\n",
        "plt.ylabel('Accuracy')\n",
        "plt.title('Accuracy Plot')\n",
        "plt.legend()\n",
        "\n",
        "# Plot train and validation set error\n",
        "plt.figure(1)\n",
        "plt.plot(history.history['loss'], label='Train Loss')\n",
        "plt.plot(history.history['val_loss'], label='Validation Loss')\n",
        "plt.xlabel('Epoch')\n",
        "plt.ylabel('Error')\n",
        "plt.title('Error Plot')\n",
        "plt.legend()"
      ],
      "execution_count": null,
      "outputs": []
    }
  ]
}